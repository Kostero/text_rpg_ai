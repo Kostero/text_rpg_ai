{
 "metadata": {
  "name": "",
  "signature": "sha256:02b63b3e11a5ff30e5acad434dcd7d5dda493ba2195e0c373f443ea042427035"
 },
 "nbformat": 3,
 "nbformat_minor": 0,
 "worksheets": [
  {
   "cells": [
    {
     "cell_type": "code",
     "collapsed": false,
     "input": [
      "import nltk"
     ],
     "language": "python",
     "metadata": {},
     "outputs": [],
     "prompt_number": 1
    },
    {
     "cell_type": "code",
     "collapsed": false,
     "input": [
      "from collections import defaultdict as dd\n",
      "D = dd(list)"
     ],
     "language": "python",
     "metadata": {},
     "outputs": [],
     "prompt_number": 19
    },
    {
     "cell_type": "code",
     "collapsed": false,
     "input": [
      "with open(\"diggedCommands.txt\") as f:\n",
      "    for line in f.readlines():\n",
      "        tokens = nltk.word_tokenize(line.strip())\n",
      "        tagged = nltk.pos_tag(tokens)\n",
      "        tags = \"#\".join([x for (_, x) in tagged])\n",
      "        D[tags].append(line.strip())"
     ],
     "language": "python",
     "metadata": {},
     "outputs": [],
     "prompt_number": 20
    },
    {
     "cell_type": "code",
     "collapsed": false,
     "input": [
      "SD = list(reversed(sorted([(len(l), key, l[:5]) for (key, l) in D.items()])))"
     ],
     "language": "python",
     "metadata": {},
     "outputs": [],
     "prompt_number": 39
    },
    {
     "cell_type": "code",
     "collapsed": false,
     "input": [
      "for (b, a, l) in SD:\n",
      "    if b > 500:\n",
      "        print b, a.split(\"#\")\n",
      "        print l"
     ],
     "language": "python",
     "metadata": {},
     "outputs": [
      {
       "output_type": "stream",
       "stream": "stdout",
       "text": [
        "47086 ['NN']\n",
        "['restore', 'kill', 'noscript', 'disrobe', 'don']\n",
        "31400 ['NN', 'NN']\n",
        "['exit driveway', 'examine pen', 'attack corpse', 'sign note', 'lock cubicle']\n",
        "12263 ['NN', 'IN', 'NN']\n",
        "['l under slot', 'l under southwest', 'stand on toaster', 'turn on northeast', 'lie on compass']\n",
        "7021 ['VB', 'RP', 'NN']\n",
        "['pick up slot', 'carry off slot', 'put down northeast', 'get off wallet', 'get off northeast']\n",
        "5505 ['JJ', 'NN']\n",
        "['open slot', 'unlock wallet', 'read note', 'drive north', 'close northeast']\n",
        "4483 ['NN', 'NNS']\n",
        "['unlock keys', 'answer keys', 'lock keys', 'use keys', 'squash postcards']\n",
        "4096 ['VB', 'NN']\n",
        "['leave shower', 'remove compass', 'get wallet', 'read telephone', 'get toilet']\n",
        "2664 ['VB']\n",
        "['go', 'save', 'get', 'remove', 'leave']\n",
        "2619 ['NN', 'IN']\n",
        "['script on', 'enter outside', 'smell inside', 'answer outside', 'unlock inside']\n",
        "2446 ['NN', 'NN', 'NN']\n",
        "['bypass circuit shale', 'bypass circuit galley', 'bypass circuit southeast', 'bypass circuit junction', '.scoop wee writ']\n",
        "2142 ['NN', 'CD', 'NN']\n",
        "['ensconce wooden weapon', 'carry k7 backdrop', 'chop k9 region', 'attach k8 person', 'chop k8 person']\n",
        "2002 ['NNS']\n",
        "['hints', 'objects', 'games', 'nouns', 'yes']\n",
        "1870 ['NN', 'NN', 'IN']\n",
        "['turn northeast on', 'turn sink on', 'turn bathroom off', 'turn compass on', 'turn car off']\n",
        "1709 ['JJ']\n",
        "['open', 'full', 'short', 'open', 'normal']\n",
        "1645 ['VB', 'IN', 'NN']\n",
        "['leave into northeast', 'leave into shower', 'leave into toilet', 'leave into inside', 'go into exit']\n",
        "1533 ['NN', 'IN', 'NNS']\n",
        "['l inside keys', 'rotate on rushes', 'l inside postcards', 'switch on postcards', 'get in advertisements']\n",
        "1421 ['VB', 'NN', 'IN']\n",
        "['rotate northeast off', 'switch urn off', 'rotate arch off', 'switch exit off', 'switch northeast off']\n",
        "1298 ['NN', 'RP', 'NN']\n",
        "['climb up tunnel', 'climb up northeast', 'climb up exit', 'climb up pond', 'l up hatchway']\n",
        "1233 ['IN']\n",
        "['out', 'outside', 'inside', 'in', 'out']\n",
        "1198 ['NN', 'TO', 'VB']\n",
        "['hear to inside', 'hear to outside', 'hear to northeast', 'hear to compass', 'hear to npc']\n",
        "1192 ['NN', 'NNS', 'NN']\n",
        "['awake k8 person', 'awake k7 backdrop', 'cross k8 person', 'rotate k9 region', 'feel k9 region']\n",
        "1161 ['NN', 'NN', 'RP']\n",
        "['pick toaster up', 'pick slot up', 'pick trunk up', 'pick wallet up', 'pick barman up']\n",
        "1080 ['VB', 'RP']\n",
        "['awake up', 'get out', 'stand up', 'awake up', 'get out']\n",
        "1002 ['VB', 'RP', 'NNS']\n",
        "['carry off keys', 'awake up rushes', 'switch off keys', 'peel off rushes', 'get off keys']\n",
        "910 ['VBG', 'NN']\n",
        "['swing urn', 'ring key', 'swing exit', 'swing compass', 'swing northeast']\n",
        "874 ['NN', 'IN', 'NN', 'NN']\n",
        "['put on west wall', 'l under k7 backdrop', 'put on k7 backdrop', 'put on k9 region', 'sit on k7 backdrop']\n",
        "864 ['RB', 'NN']\n",
        "['close telephone', 'close driveway', 'close arch', 'adjust urn', 'close hut']\n",
        "842 ['VBG', 'IN', 'NN']\n",
        "['swing on urn', 'swing on compass', 'swing on northeast', 'swing on needle', 'swing on northeast']\n",
        "833 ['VB', 'RP', 'CD', 'NN']\n",
        "['awake up k7 backdrop', 'close up k7 backdrop', 'close up k9 region', 'carry off k8 person', 'awake up k9 region']\n",
        "828 ['NN', 'IN', 'NN', 'IN', 'NN']\n",
        "['lie on top of southeast', 'lie on top of northwest', 'lie on top of compass', 'lie on top of toaster', 'lie on top of northeast']\n",
        "827 ['RB', 'IN', 'NN']\n",
        "['close up northeast', 'close off tunnel', 'close off key', 'close off northeast', 'close off piper']\n",
        "787 ['JJ', 'IN']\n",
        "['open outside', 'open inside', 'hear outside', 'hear inside', 'open outside']\n",
        "783 ['JJ', 'NNS']\n",
        "['open keys', 'clean tables', 'thread stones', 'empty tables', 'open keys']\n",
        "723 ['JJ', 'NN', 'NN']\n",
        "['short circuit galley', 'short circuit southeast', 'short circuit shale', '.foo weird widget', '.rip weird widget']\n",
        "668 ['VB', 'CD', 'NN']\n",
        "['drink k8 person', 'go k8 person', 'read k8 person', 'drink k9 region', 'read k7 backdrop']\n",
        "659 ['NN', 'IN', 'JJ', 'NN']\n",
        "['get in k9 region', 'l inside k9 region', 'rotate on k9 region', 'l at k9 region', 'switch on k9 region']\n",
        "644 ['NN', 'IN', 'IN']\n",
        "['l inside inside', 'l inside outside', 'l inside inside', 'l inside outside', 'l inside inside']\n",
        "589 ['VBG']\n",
        "['recording', 'sing', 'swing', 'typing', 'recording']\n",
        "574 ['RB']\n",
        "['close', 'close', 'long', 'close', 'long']\n",
        "574 ['NN', 'IN', 'NNS', 'NN']\n",
        "['put on k8 person', 'stand on k7 backdrop', 'stand on k8 person', 'stand on k9 region', 'sit on k8 person']\n",
        "573 ['VB', 'RP', 'JJ', 'NN']\n",
        "['carry off k9 region', 'carry off k7 backdrop', 'get off k9 region', 'rotate off k9 region', 'switch off k9 region']\n",
        "542 ['NN', 'NNS', 'NN', 'IN']\n",
        "['rotate k8 person off', 'rotate k9 region on', 'rotate k8 person on', 'rotate k7 backdrop on', 'switch k9 region off']\n",
        "521 ['JJ', 'CD', 'NN']\n",
        "['hear k9 region', 'clean k9 region', 'clear k9 region', 'clean k8 person', 'open k8 person']\n"
       ]
      }
     ],
     "prompt_number": 41
    }
   ],
   "metadata": {}
  }
 ]
}