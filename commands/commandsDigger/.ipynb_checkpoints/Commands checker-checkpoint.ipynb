{
 "metadata": {
  "name": "",
  "signature": "sha256:4259ad9fb552a24e4a59083125c6bf17aa77db3b8b8164a77077e81fac369d6f"
 },
 "nbformat": 3,
 "nbformat_minor": 0,
 "worksheets": []
}