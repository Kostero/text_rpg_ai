{
 "cells": [
  {
   "cell_type": "code",
   "execution_count": 1,
   "metadata": {
    "collapsed": true
   },
   "outputs": [],
   "source": [
    "import parser\n",
    "import os\n",
    "from collections import defaultdict"
   ]
  },
  {
   "cell_type": "code",
   "execution_count": 9,
   "metadata": {
    "collapsed": true
   },
   "outputs": [],
   "source": [
    "def get_score(path):\n",
    "    score = 0\n",
    "    max_score = 0\n",
    "    for t in parser.parse(path):\n",
    "        if t[0] == 'score':\n",
    "            score, max_score = map(int, t[1].split())\n",
    "    return score, max_score\n",
    "\n",
    "def buildname(parts, nr):\n",
    "    return '../logs/' + '_'.join(parts[:-1] + [str(nr)]) + '.log'"
   ]
  },
  {
   "cell_type": "code",
   "execution_count": 8,
   "metadata": {},
   "outputs": [
    {
     "name": "stdout",
     "output_type": "stream",
     "text": [
      "difference in reser_0 : (0, 0) (0, 100)\n",
      "difference in dogslife_0 : (3, 38) (2, 38)\n",
      "difference in typo_0 : (2, 10) (0, 10)\n",
      "difference in solitary_0 : (0, 10) (1, 10)\n",
      "difference in Gumshoe_0 : (0, 24) (1, 24)\n",
      "difference in building_0 : (15, 250) (0, 250)\n",
      "difference in BedTime_0 : (2, 200) (4, 200)\n",
      "difference in tatctae_0 : (0, 200) (1, 200)\n",
      "difference in ChildsPlay_0 : (0, 100) (5, 100)\n",
      "difference in FineTune_0 : (0, 42) (1, 42)\n",
      "difference in VOSR_r1.23_0 : (2, 100) (3, 100)\n",
      "difference in candy_0 : (0, 41) (10, 41)\n",
      "difference in ZorkNplus9_0 : (10, 616) (35, 616)\n",
      "difference in advent_6 : (0, 0) (27, 350)\n",
      "difference in Vacation_0 : (2, 100) (0, 100)\n",
      "difference in Aug4_0 : (0, 70) (1, 70)\n",
      "difference in Mountain_0 : (1, 32) (3, 32)\n",
      "difference in Balances_0 : (5, 51) (10, 51)\n",
      "difference in detective_6 : (110, 360) (140, 360)\n",
      "difference in doll_0 : (1, 60) (2, 60)\n",
      "difference in StrangeWorld_0 : (6, 10) (1, 10)\n",
      "difference in cavetrip_0 : (5, 500) (0, 500)\n",
      "difference in DeliciousBreakfast_0 : (4, 7) (3, 7)\n",
      "difference in bear_0 : (5, 33) (11, 33)\n",
      "difference in HELL_0 : (0, 300) (20, 300)\n",
      "difference in zork1_3 : (0, 350) (30, 350)\n",
      "difference in quake_0 : (0, 30) (1, 30)\n",
      "difference in mines_0 : (0, 0) (12, 100)\n",
      "difference in atrocitron_0 : (9, 15) (8, 15)\n",
      "difference in Youve_Got_a_Stew_Going_0 : (0, 6) (1, 6)\n",
      "difference in paperchase_0 : (4, 100) (8, 100)\n",
      "difference in spirit_0 : (0, 250) (4, 250)\n",
      "difference in wadewar3_0 : (5, 100) (0, 100)\n",
      "difference in permagic_0 : (1, 3) (0, 3)\n",
      "difference in Dragon_0 : (1, 25) (3, 25)\n",
      "difference in wossname_1 : (7233, 7823) (0, 0)\n",
      "difference in curves_0 : (5, 100) (3, 100)\n",
      "difference in Parc_0 : (0, 400) (0, 0)\n",
      "difference in Tutorial_0 : (4, 20) (9, 20)\n",
      "difference in adv551_0 : (0, 0) (41, 551)\n",
      "difference in wedding_0 : (0, 20) (1, 20)\n",
      "difference in vagueness_0 : (0, 0) (0, 100)\n",
      "difference in quick2_0 : (0, 25) (0, 0)\n",
      "24 games went better now, 11 went worse\n"
     ]
    }
   ],
   "source": [
    "better, worse = 0, 0\n",
    "\n",
    "for file in os.listdir('../logs'):\n",
    "    name, ext = os.path.splitext(file)\n",
    "    if ext != '.log':\n",
    "        continue\n",
    "    parts = name.split('_')\n",
    "    try:\n",
    "        num = int(parts[-1])\n",
    "        if os.path.exists(buildname(parts, num + 1)) and os.path.exists(buildname(parts, num + 2)) and not os.path.exists(buildname(parts, num + 3)):\n",
    "            score1 = get_score(buildname(parts, num))\n",
    "            score2 = get_score(buildname(parts, num + 2))\n",
    "            if score1 != score2:\n",
    "                print('difference in', name, ':', score1, score2)\n",
    "                if score1[1] == score2[1]:\n",
    "                    if score1 < score2:\n",
    "                        better += 1\n",
    "                    else:\n",
    "                        worse += 1\n",
    "    except Exception as e:\n",
    "        pass\n",
    "    \n",
    "print('{0} games went better now, {1} went worse'.format(better, worse))"
   ]
  },
  {
   "cell_type": "code",
   "execution_count": 15,
   "metadata": {},
   "outputs": [
    {
     "name": "stdout",
     "output_type": "stream",
     "text": [
      "library: [(5, 30), (0, 30)]\n",
      "wedding: [(1, 20), (1, 20), (0, 20)]\n",
      "Vacation: [(0, 100), (0, 100), (2, 100)]\n",
      "zork1: [(0, 350), (0, 350), (0, 350), (15, 350), (0, 350), (0, 350), (0, 350), (15, 350), (5, 350), (0, 350), (0, 350), (5, 350), (15, 350), (0, 350), (0, 350), (20, 350), (0, 350), (0, 350), (15, 350), (0, 350), (0, 350), (5, 350), (0, 350), (0, 350), (15, 350), (5, 350), (15, 350), (0, 350), (0, 350), (0, 350), (0, 350), (0, 350), (15, 350), (15, 350), (0, 350), (15, 350), (0, 350), (0, 350), (0, 350), (0, 350), (0, 350), (0, 350), (0, 350), (0, 350), (10, 350), (0, 350), (15, 350), (15, 350), (15, 350), (0, 350), (0, 350), (15, 350), (0, 350), (0, 350), (15, 350), (0, 350), (5, 350), (15, 350), (5, 350), (30, 350), (0, 350), (30, 350), (0, 350), (30, 350), (0, 350), (0, 350), (0, 350), (0, 350), (10, 350)]\n",
      "candy: [(0, 41), (10, 41), (0, 41), (0, 41)]\n",
      "Gumshoe: [(0, 24), (1, 24), (0, 24)]\n",
      "FineTune: [(0, 42), (1, 42), (4, 42)]\n",
      "dogslife: [(3, 38), (1, 38), (2, 38)]\n",
      "Balances: [(5, 51), (10, 51), (10, 51), (10, 51)]\n",
      "StrangeWorld: [(2, 10), (6, 10), (1, 10)]\n",
      "atrocitron: [(5, 15), (9, 15), (8, 15)]\n",
      "wadewar3: [(5, 100), (0, 100), (5, 100)]\n",
      "cavetrip: [(0, 500), (0, 500), (0, 500), (0, 500), (0, 500), (0, 500), (5, 500), (0, 500)]\n",
      "BedTime: [(4, 200), (2, 200), (8, 200)]\n",
      "Dragon: [(3, 25), (1, 25), (1, 25)]\n",
      "wossname: [(6623, 7163), (7233, 7823)]\n",
      "Aug4: [(1, 70), (0, 70), (1, 70)]\n",
      "Stealing_the_Stolen: [(0, 15), (0, 15), (10, 15)]\n",
      "Inevita: [(1, 14), (0, 14)]\n",
      "tatctae: [(0, 200), (0, 200), (1, 200)]\n",
      "Enemies: [(0, 100), (1, 100), (1, 100)]\n",
      "quake: [(1, 30), (0, 30), (0, 30)]\n",
      "chaosgame: [(0, 100), (1110, 100), (0, 100)]\n",
      "solitary: [(0, 10), (1, 10), (0, 10)]\n",
      "HELL: [(20, 300), (0, 300), (0, 300)]\n",
      "adverbum: [(0, 100), (0, 100), (10, 100)]\n",
      "Tutorial: [(9, 20), (1, 20), (4, 20)]\n",
      "Mountain: [(1, 32), (1, 32), (3, 32)]\n",
      "ZorkNplus9: [(15, 616), (10, 616), (40, 616), (35, 616)]\n",
      "loose: [(2, 50), (0, 50)]\n",
      "spring: [(2, 20), (1, 20), (2, 20)]\n",
      "detective: [(30, 360), (120, 360), (30, 360), (120, 360), (110, 360), (140, 360), (30, 360), (30, 360), (40, 360), (30, 360)]\n",
      "spirit: [(4, 250), (0, 250), (2, 250)]\n",
      "Youve_Got_a_Stew_Going: [(0, 6), (0, 6), (1, 6)]\n",
      "curves: [(3, 100), (0, 100), (5, 100)]\n",
      "IF_Whispers_5: [(1, 1023), (0, 1023)]\n",
      "typo: [(2, 10), (0, 10), (0, 10)]\n",
      "bear: [(10, 33), (11, 33), (5, 33), (6, 33)]\n",
      "doll: [(1, 60), (1, 60), (2, 60)]\n",
      "CatcherInTheRye: [(2, 14), (2, 14), (0, 14)]\n",
      "building: [(15, 250), (0, 250), (0, 250), (0, 250)]\n",
      "VOSR_r1.23: [(3, 100), (2, 100), (4, 100)]\n",
      "ChildsPlay: [(0, 100), (5, 100), (0, 100)]\n",
      "HellsBasement: [(0, 5), (2, 5), (0, 5)]\n",
      "permagic: [(0, 3), (0, 3), (1, 3)]\n",
      "Slackerx: [(4, 52), (4, 52), (0, 52)]\n",
      "In_The_Cubicle: [(35, 75), (25, 75)]\n",
      "advent: [(36, 350), (27, 350), (36, 350), (36, 350)]\n",
      "bunny: [(0, 60), (3, 60), (0, 60), (0, 60)]\n",
      "woman: [(4, 400), (4, 400), (0, 400)]\n",
      "paperchase: [(8, 100), (4, 100), (8, 100)]\n",
      "DeliciousBreakfast: [(3, 7), (4, 7), (3, 7)]\n",
      "finished\n"
     ]
    }
   ],
   "source": [
    "scores = defaultdict(list)\n",
    "\n",
    "for file in os.listdir('../logs'):\n",
    "    name, ext = os.path.splitext(file)\n",
    "    if ext != '.log':\n",
    "        continue\n",
    "    parts = name.split('_')\n",
    "    try:\n",
    "        body = '_'.join(parts[:-1])\n",
    "        score = get_score(buildname(parts, parts[-1]))\n",
    "        if score[1] != 0:\n",
    "            scores[body].append(score)\n",
    "    #except None:\n",
    "    except Exception as e:\n",
    "        pass\n",
    "for name, score in scores.items():\n",
    "    if len(set(score)) != 1:\n",
    "        print(name + ':', score)\n",
    "print('finished')"
   ]
  },
  {
   "cell_type": "code",
   "execution_count": null,
   "metadata": {
    "collapsed": true
   },
   "outputs": [],
   "source": []
  }
 ],
 "metadata": {
  "kernelspec": {
   "display_name": "Python 3",
   "language": "python",
   "name": "python3"
  },
  "language_info": {
   "codemirror_mode": {
    "name": "ipython",
    "version": 3
   },
   "file_extension": ".py",
   "mimetype": "text/x-python",
   "name": "python",
   "nbconvert_exporter": "python",
   "pygments_lexer": "ipython3",
   "version": "3.5.2"
  }
 },
 "nbformat": 4,
 "nbformat_minor": 2
}
