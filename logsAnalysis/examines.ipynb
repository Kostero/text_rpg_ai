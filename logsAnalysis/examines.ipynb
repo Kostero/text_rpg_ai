{
 "cells": [
  {
   "cell_type": "code",
   "execution_count": 1,
   "metadata": {
    "collapsed": true
   },
   "outputs": [],
   "source": [
    "import parser\n",
    "import os\n",
    "from collections import defaultdict"
   ]
  },
  {
   "cell_type": "code",
   "execution_count": 13,
   "metadata": {
    "collapsed": true
   },
   "outputs": [],
   "source": [
    "def get_good_examines(path):\n",
    "    result = []\n",
    "    score = 0\n",
    "    last_examine = None\n",
    "    for t in parser.parse('../logs/' + path):\n",
    "        if t[0] == 'score':\n",
    "            new_score = int(t[1].split()[0])\n",
    "            if new_score > score and last_examine is not None:\n",
    "                result.append(last_examine)\n",
    "            score = new_score\n",
    "            last_examine = None\n",
    "        elif t[0] == 'command' and t[1].startswith('examine '):\n",
    "            last_examine = t[1]\n",
    "    return result"
   ]
  },
  {
   "cell_type": "code",
   "execution_count": 15,
   "metadata": {},
   "outputs": [
    {
     "name": "stdout",
     "output_type": "stream",
     "text": [
      "99.98330272165637% finished        \n",
      "['examine tree\\n', 'examine tree\\n', 'examine tree\\n', 'examine tree\\n', 'examine key\\n', 'examine papers\\n', 'examine sheets\\n', 'examine pile\\n', 'examine tree\\n', 'examine tree\\n', 'examine tree\\n', 'examine papers\\n', 'examine tree\\n', 'examine pile\\n', 'examine tree\\n', 'examine sheets\\n', 'examine tree\\n', 'examine tombstones\\n', 'examine tree\\n', 'examine tree\\n', 'examine tree\\n', 'examine tree\\n', 'examine furniture\\n', 'examine pile\\n', 'examine tree\\n', 'examine tree\\n', 'examine tree\\n', 'examine tree\\n', 'examine pile\\n', 'examine tree\\n', 'examine tree\\n', 'examine sheets\\n', 'examine tree\\n', 'examine tree\\n', 'examine furniture\\n', 'examine pile\\n', 'examine tree\\n', 'examine tree\\n', 'examine furniture\\n', 'examine tree\\n', 'examine tree\\n', 'examine tree\\n', 'examine tree\\n', 'examine the tree\\n', 'examine furniture\\n', 'examine tree\\n', 'examine tree\\n', 'examine tree\\n', 'examine rubble\\n', 'examine tree\\n', 'examine tree\\n', 'examine sheets\\n', 'examine pile\\n', 'examine furniture\\n', 'examine sheets\\n', 'examine papers\\n', 'examine bodies\\n', 'examine furniture\\n', 'examine pile\\n', 'examine papers\\n', 'examine tree\\n', 'examine tree\\n', 'examine sheets\\n', 'examine tombstones\\n', 'examine tree\\n', 'examine furniture\\n', 'examine tree\\n', 'examine tree\\n', 'examine tree\\n', 'examine bodies\\n', 'examine bodies\\n', 'examine furniture\\n', 'examine tree\\n', 'examine tree\\n', 'examine tree\\n', 'examine tree\\n', 'examine furniture\\n', 'examine pile\\n', 'examine tree\\n', 'examine tree\\n', 'examine tree\\n', 'examine furniture\\n', 'examine tree\\n', 'examine tree\\n', 'examine tree\\n', 'examine shadows\\n', 'examine poster\\n', 'examine tree\\n', 'examine furniture\\n', 'examine tree\\n', 'examine furniture\\n', 'examine pile\\n', 'examine papers\\n', 'examine tree\\n', 'examine tree\\n', 'examine pile\\n', 'examine tree\\n', 'examine tree\\n', 'examine tree\\n', 'examine tree\\n', 'examine bed\\n', 'examine papers\\n', 'examine papers\\n', 'examine furniture\\n', 'examine pile\\n', 'examine sheets\\n', 'examine moss\\n', 'examine tree\\n', 'examine tree\\n', 'examine tree\\n', 'examine tree\\n', 'examine furniture\\n', 'examine tree\\n', 'examine tree\\n', 'examine furniture\\n', 'examine pile\\n', 'examine pile\\n', 'examine coffee\\n', 'examine field\\n', 'examine field\\n', 'examine tree\\n', 'examine tree\\n', 'examine tree\\n', 'examine tree\\n', 'examine sheets\\n', 'examine furniture\\n', 'examine pile\\n', 'examine furniture\\n', 'examine sheets\\n', 'examine tree\\n']\n"
     ]
    }
   ],
   "source": [
    "files = os.listdir('../logs')\n",
    "result = []\n",
    "for i, file in enumerate(files):\n",
    "    print('{0}% finished     '.format(i / len(files) * 100), end='\\r')\n",
    "    try:\n",
    "        result += get_good_examines(file)\n",
    "    except:\n",
    "        pass\n",
    "print()\n",
    "print(result)"
   ]
  },
  {
   "cell_type": "code",
   "execution_count": 18,
   "metadata": {},
   "outputs": [
    {
     "name": "stdout",
     "output_type": "stream",
     "text": [
      "{'bodies\\n', 'tombstones\\n', 'sheets\\n', 'the tree\\n', 'bed\\n', 'papers\\n', 'shadows\\n', 'key\\n', 'tree\\n', 'pile\\n', 'furniture\\n', 'rubble\\n', 'field\\n', 'poster\\n', 'coffee\\n', 'moss\\n'}\n"
     ]
    }
   ],
   "source": [
    "objects = { x[len('examine '):] for x in result }\n",
    "print(objects)"
   ]
  },
  {
   "cell_type": "code",
   "execution_count": null,
   "metadata": {
    "collapsed": true
   },
   "outputs": [],
   "source": []
  }
 ],
 "metadata": {
  "kernelspec": {
   "display_name": "Python 3",
   "language": "python",
   "name": "python3"
  },
  "language_info": {
   "codemirror_mode": {
    "name": "ipython",
    "version": 3
   },
   "file_extension": ".py",
   "mimetype": "text/x-python",
   "name": "python",
   "nbconvert_exporter": "python",
   "pygments_lexer": "ipython3",
   "version": "3.5.2"
  }
 },
 "nbformat": 4,
 "nbformat_minor": 2
}
