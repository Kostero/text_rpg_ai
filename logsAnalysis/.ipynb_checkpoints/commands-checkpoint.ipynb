{
 "cells": [
  {
   "cell_type": "code",
   "execution_count": 4,
   "metadata": {},
   "outputs": [
    {
     "name": "stdout",
     "output_type": "stream",
     "text": [
      "Populating the interactive namespace from numpy and matplotlib\n"
     ]
    }
   ],
   "source": [
    "%pylab inline\n",
    "from parser import *\n",
    "import classifier"
   ]
  },
  {
   "cell_type": "code",
   "execution_count": 5,
   "metadata": {},
   "outputs": [
    {
     "name": "stdout",
     "output_type": "stream",
     "text": [
      "Read successfully 1384 out of 1480 files\n",
      "There are 800 files with over 100 tokens\n"
     ]
    }
   ],
   "source": [
    "parsed = parse_all('../logs')\n",
    "parsed = [x for x in parsed if len(x) > 100]\n",
    "print('There are', len(parsed), 'files with over 100 tokens')"
   ]
  },
  {
   "cell_type": "code",
   "execution_count": 8,
   "metadata": {},
   "outputs": [
    {
     "name": "stdout",
     "output_type": "stream",
     "text": [
      "100.0% processed         \n"
     ]
    }
   ],
   "source": [
    "from collections import Counter\n",
    "positive = Counter()\n",
    "negative = Counter()\n",
    "for i, file in enumerate(parsed):\n",
    "    last_command = None\n",
    "    for token in file:\n",
    "        if 'command' in token[0]:\n",
    "            last_command = token[1].strip()\n",
    "        elif token[0] == 'response' and last_command is not None:\n",
    "            p = classifier.is_response_positive(token[1])\n",
    "            if p:\n",
    "                positive.update([last_command])\n",
    "            else:\n",
    "                negative.update([last_command])\n",
    "            last_command = None\n",
    "    print('\\r{0}% processed        '.format((i+1) * 100 / len(parsed)), end='')\n",
    "print()"
   ]
  },
  {
   "cell_type": "code",
   "execution_count": 22,
   "metadata": {},
   "outputs": [
    {
     "name": "stdout",
     "output_type": "stream",
     "text": [
      "[('go east', 24458), ('go west', 23853), ('go north', 22208), ('go south', 22053), ('shoot arrow', 21196), ('kill sheep', 17232), ('kill man', 8494), ('kill girl', 8109), ('go up', 6913), ('go down', 6826), ('shoot man', 6604), ('go southeast', 4813), ('go northwest', 4275), ('go northeast', 3081), ('go southwest', 2740), ('kill wolf', 2031), ('kill guard', 1315), ('shoot door', 1258), ('kill guards', 867), ('move north', 808), ('walk north', 780), ('move west', 774), ('fight guard', 643), ('move east', 598), ('walk west', 589), ('walk east', 570), ('examine wall', 550), ('go door', 529), ('move southeast', 506), ('examine door', 505), ('attack guard', 469), ('open door', 430), ('push east', 429), ('walk south', 396), ('move south', 389), ('get guide', 385), ('examine gnome', 366), ('shoot robot', 366), ('move southwest', 365), ('examine desk', 356), ('read guide', 323), ('examine guide', 310), ('kill the snake', 300), ('move northeast', 288), ('swim east', 258), ('examine window', 254), ('examine table', 246), ('get paper', 241), ('run east', 235), ('search desk', 229)]\n",
      "[('shoot door', 46301), ('go up', 29130), ('go down', 28947), ('go northeast', 28625), ('go southeast', 28557), ('go east', 28489), ('go northwest', 28436), ('go southwest', 28258), ('go south', 27845), ('go north', 27718), ('go west', 27712), ('shoot man', 7527), ('kill man', 4498), ('kill man with sword', 2289), ('kill evil clouds', 2263), ('open door', 1609), ('shoot guard', 1574), ('kill wolf', 1450), ('shoot robot', 1433), ('kill the snake', 1266), ('kill guard', 1241), ('unlock door', 1217), ('kill spider', 861), ('go door', 840), ('shoot dog', 821), ('fight guard', 812), ('move north twice', 812), ('go back west', 804), ('then north', 799), ('crawl west', 782), ('row west', 780), ('row north', 779), ('swim north', 767), ('swim west', 749), ('kill dog', 748), ('attack guard', 720), ('head north', 663), ('examine door', 656), ('close door', 644), ('kill dragon', 628), ('shoot gun', 628), ('south east', 610), ('north east', 598), ('row east', 597), ('move east to the', 581), ('head west', 579), ('crawl east', 578), ('enter room', 566), ('examine room', 559), ('drive east', 546)]\n",
      "264464 802087\n"
     ]
    }
   ],
   "source": [
    "print(positive.most_common(50))\n",
    "print(negative.most_common(50))\n",
    "print(sum(list(positive.values())), sum(list(negative.values())))"
   ]
  },
  {
   "cell_type": "code",
   "execution_count": 37,
   "metadata": {
    "collapsed": true
   },
   "outputs": [],
   "source": [
    "ratio = dict()\n",
    "for k in positive.keys():\n",
    "    if positive[k] + negative[k] > 10:\n",
    "        ratio[k] = positive[k] / (positive[k] + negative[k])\n",
    "for k in negative.keys():\n",
    "    if positive[k] + negative[k] > 10:\n",
    "        ratio[k] = positive[k] / (positive[k] + negative[k])"
   ]
  },
  {
   "cell_type": "code",
   "execution_count": 41,
   "metadata": {},
   "outputs": [
    {
     "name": "stdout",
     "output_type": "stream",
     "text": [
      "[('get in helicopter', 1.0), ('look housekeeper', 1.0), ('drop laser', 1.0), ('get typewriter', 1.0), ('examine railing', 1.0), ('look shaft', 1.0), ('get symbols', 1.0), ('examine mom', 1.0), ('get bottle and stool', 1.0), ('examine aquarium', 1.0), ('give guide', 1.0), ('examine notebook', 1.0), ('fill bag with sword', 1.0), ('examine mailbox', 1.0), ('get the boy', 1.0), ('get beanbag', 1.0), ('examine spectacles', 1.0), ('get juniper', 1.0), ('take message', 1.0), ('examine swamp', 1.0), ('get suicide', 1.0), ('decode message', 1.0), ('say hi', 1.0), ('put wire in machine', 1.0), ('throw voice at head', 1.0), ('enter vent', 1.0), ('examine depression', 1.0), ('get cormorant', 1.0), ('drop device', 1.0), ('follow the path northeast', 1.0), ('get __checknounword', 1.0), ('move bush', 1.0), ('examine finger', 1.0), ('get pointy', 1.0), ('examine vent', 1.0), ('get hybrid', 1.0), ('go vent', 1.0), ('take spacesuit', 1.0), ('climb bush', 1.0), ('examine blue book', 1.0), ('attack knight', 1.0), ('climb vines', 1.0), ('get sheep', 1.0), ('say robin hood', 1.0), ('drop message', 1.0), ('get troops', 1.0), ('go moon door', 1.0), ('examine remote', 1.0), ('sit on bench', 1.0), ('get drizzle', 1.0), ('read notebook', 1.0), ('examine envelope', 1.0), ('examine small boy', 1.0), ('put it in depression', 1.0), ('say focus ruin', 1.0), ('examine rug', 1.0), ('read this guide', 1.0), ('give him the gnome', 1.0), ('examine skeleton', 1.0), ('examine message', 1.0), ('wake robin', 1.0), ('light bush', 1.0), ('get railing', 1.0), ('empty aquarium', 1.0), ('examine toy box', 1.0), ('examine orange mirror', 1.0), ('examine band', 1.0), ('use the flag', 1.0), ('put ball on desk', 1.0), ('examine pedestal', 1.0), ('get property', 1.0), ('get bets', 1.0), ('give bag to man', 1.0), ('examine mantelpiece', 1.0), ('examine card reader', 1.0), ('look at clouds', 1.0), ('examine robin', 1.0), ('give hat', 1.0), ('take robin', 1.0), ('get spoonbill', 1.0), ('get spacesuit', 1.0), ('go helicopter', 1.0), ('examine guards', 1.0), ('get check_word', 1.0), ('examine conductor', 1.0), ('examine spacesuit', 1.0), ('follow guide', 1.0), ('examine rifle', 1.0), ('take kitten', 1.0), ('get message', 1.0), ('get kittens', 1.0), ('get oblivion', 1.0), ('drop everything except the key', 1.0), ('take guide', 1.0), ('search gnome', 1.0), ('take squash ball', 1.0), ('get shafts', 1.0), ('walk toward the tent entrance', 1.0), ('get herd', 1.0), ('get riverbank', 1.0)]\n",
      "[('the east exit is now open', 0.0), ('open glass box', 0.0), ('left door', 0.0), ('\"w\"- room which is pitch black', 0.0), ('bolt door', 0.0), ('dig in junk', 0.0), ('get trucks', 0.0), ('gut fish', 0.0), ('it is thrown by the front door', 0.0), ('take paper from chest', 0.0), ('get doppleton', 0.0), ('talk girl', 0.0), ('take dirt', 0.0), ('go any direction bar', 0.0), ('go to y2 room', 0.0), ('south to the forest', 0.0), ('land of the clouds', 0.0), ('get solve', 0.0), ('larry runs', 0.0), ('island 4 - dark', 0.0), ('knock on left-hand door', 0.0), (\"return to morgan's office\", 0.0), ('examine algae', 0.0), ('a snake', 0.0), ('unlock door with stone key', 0.0), ('enter school', 0.0), ('look under stairs', 0.0), ('have a date', 0.0), ('get walk-in', 0.0), ('northwest to the parking lot', 0.0), ('remember just his direction', 0.0), ('the only thing you must do to', 0.0), ('wait for rain to appear', 0.0), (\"there's a whole lot of screaming\", 0.0), ('examine book shelf', 0.0), ('see a room', 0.0), ('enter the shed', 0.0), ('shelves - in admin storage room', 0.0), ('get quit', 0.0), ('sit chair', 0.0), ('on your way through the kitchen', 0.0), ('at the end of the game', 0.0), ('get scene', 0.0), ('go with boy', 0.0), ('close iron gate', 0.0), ('get woods', 0.0), ('look close at wall cabinet', 0.0), ('south side of the poisoned lake', 0.0), ('alchemist: burn the door with the lamp', 0.0), ('to do in this room', 0.0), ('then examine the room again', 0.0), ('rope down shaft', 0.0), ('open door to exit the bar', 0.0), ('telescope at the top of the tree', 0.0), ('narrow room', 0.0), ('jump southeast', 0.0), ('he enters yet another room', 0.0), ('open door 2', 0.0), ('father of darkness', 0.0), ('search for an exit', 0.0), ('play music', 0.0), ('secret room', 0.0), ('a bridge over the river', 0.0), ('the decorated room in the castle', 0.0), ('enter the taxi', 0.0), ('flies away when rosella walks', 0.0), ('out of the darkness', 0.0), (\"harold's computer is sitting on his desk\", 0.0), ('back northeast', 0.0), ('while the driveway continues southeast', 0.0), ('a woman', 0.0), ('then you leave the room', 0.0), ('grease stained tile wall', 0.0), ('turn tap', 0.0), ('open the building door', 0.0), ('you need something', 0.0), ('remove tail', 0.0), ('from your throat', 0.0), ('at back of room', 0.0), ('found in the dark cave', 0.0), ('from the start', 0.0), ('exam table', 0.0), ('go to the side path', 0.0), ('get box from bag', 0.0), ('4 - restore a game', 0.0), ('no exits', 0.0), ('enter into drive', 0.0), ('336 blatin street', 0.0), ('dark corridor', 0.0), ('go to the haunted house', 0.0), (\"go to jack's room\", 0.0), ('get hidden', 0.0), ('l - look', 0.0), ('continue along the path', 0.0), ('get surroundings', 0.0), ('the start of this is random', 0.0), ('examine white door', 0.0), ('dark cave', 0.0), ('go to the door', 0.0), ('behind the office', 0.0)]\n",
      "8984\n"
     ]
    }
   ],
   "source": [
    "s = list(ratio.items())\n",
    "s.sort(key=lambda x: -x[1])\n",
    "print(s[:100])\n",
    "print(s[-100:])\n",
    "print(len(s))"
   ]
  },
  {
   "cell_type": "code",
   "execution_count": null,
   "metadata": {
    "collapsed": true
   },
   "outputs": [],
   "source": []
  }
 ],
 "metadata": {
  "kernelspec": {
   "display_name": "Python 3",
   "language": "python",
   "name": "python3"
  },
  "language_info": {
   "codemirror_mode": {
    "name": "ipython",
    "version": 3
   },
   "file_extension": ".py",
   "mimetype": "text/x-python",
   "name": "python",
   "nbconvert_exporter": "python",
   "pygments_lexer": "ipython3",
   "version": "3.5.2"
  }
 },
 "nbformat": 4,
 "nbformat_minor": 2
}
