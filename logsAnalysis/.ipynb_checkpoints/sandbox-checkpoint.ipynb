{
 "cells": [
  {
   "cell_type": "code",
   "execution_count": 1,
   "metadata": {
    "collapsed": true
   },
   "outputs": [],
   "source": [
    "import parser\n",
    "import os"
   ]
  },
  {
   "cell_type": "code",
   "execution_count": 2,
   "metadata": {
    "collapsed": true
   },
   "outputs": [],
   "source": [
    "def get_score(path):\n",
    "    score = 0\n",
    "    max_score = 0\n",
    "    for t in parser.parse(path):\n",
    "        if t[0] == 'score':\n",
    "            score, max_score = map(int, t[1].split())\n",
    "    return score, max_score"
   ]
  },
  {
   "cell_type": "code",
   "execution_count": 18,
   "metadata": {},
   "outputs": [
    {
     "name": "stdout",
     "output_type": "stream",
     "text": [
      "difference in reser_0 : (0, 0) (0, 100)\n",
      "difference in dogslife_0 : (3, 38) (1, 38)\n",
      "difference in typo_0 : (2, 10) (0, 10)\n",
      "difference in bunny_0 : (0, 60) (3, 60)\n",
      "difference in building_0 : (15, 250) (0, 250)\n",
      "difference in woman_0 : (4, 400) (0, 400)\n",
      "difference in BedTime_0 : (2, 200) (8, 200)\n",
      "difference in IF_Whispers_5_0 : (1, 1023) (0, 1023)\n",
      "difference in FineTune_0 : (0, 42) (4, 42)\n",
      "difference in enter_0 : (0, 0) (0, 20)\n",
      "difference in Inevita_0 : (1, 14) (0, 14)\n",
      "difference in VOSR_r1.23_0 : (2, 100) (4, 100)\n",
      "difference in chaosgame_0 : (0, 100) (1110, 100)\n",
      "difference in ZorkNplus9_0 : (10, 616) (40, 616)\n",
      "difference in Vacation_0 : (2, 100) (0, 100)\n",
      "difference in Aug4_0 : (0, 70) (1, 70)\n",
      "difference in Balances_0 : (5, 51) (10, 51)\n",
      "difference in adverbum_0 : (0, 100) (10, 100)\n",
      "difference in HellsBasement_0 : (0, 5) (2, 5)\n",
      "difference in risorg_0 : (0, 50) (0, 0)\n",
      "difference in detective_6 : (110, 360) (30, 360)\n",
      "difference in In_The_Cubicle_0 : (35, 75) (25, 75)\n",
      "difference in loose_0 : (2, 50) (0, 50)\n",
      "difference in StrangeWorld_0 : (6, 10) (2, 10)\n",
      "difference in spring_0 : (2, 20) (1, 20)\n",
      "difference in library_0 : (0, 30) (5, 30)\n",
      "difference in cavetrip_0 : (5, 500) (0, 500)\n",
      "difference in advent_4 : (36, 350) (0, 0)\n",
      "difference in DeliciousBreakfast_0 : (4, 7) (3, 7)\n",
      "difference in bear_0 : (5, 33) (6, 33)\n",
      "difference in mines_0 : (0, 0) (12, 100)\n",
      "difference in atrocitron_0 : (9, 15) (5, 15)\n",
      "difference in CatcherInTheRye_0 : (2, 14) (0, 14)\n",
      "difference in Stealing_the_Stolen_0 : (0, 15) (10, 15)\n",
      "difference in ConanKillEverything_0 : (0, 0) (0, 15)\n",
      "difference in paperchase_0 : (4, 100) (8, 100)\n",
      "difference in spirit_0 : (0, 250) (2, 250)\n",
      "difference in permagic_0 : (1, 3) (0, 3)\n",
      "difference in Slackerx_0 : (4, 52) (0, 52)\n",
      "difference in wossname_1 : (7233, 7823) (0, 0)\n",
      "difference in curves_0 : (5, 100) (0, 100)\n",
      "difference in Tutorial_0 : (4, 20) (1, 20)\n",
      "difference in wedding_0 : (0, 20) (1, 20)\n",
      "difference in vagueness_0 : (0, 0) (0, 100)\n",
      "difference in Enemies_0 : (1, 100) (0, 100)\n",
      "21 games went better with additional commands, 16 went worse\n"
     ]
    }
   ],
   "source": [
    "def buildname(parts, nr):\n",
    "    return '../logs/' + '_'.join(parts[:-1] + [str(nr)]) + '.log'\n",
    "\n",
    "better, worse = 0, 0\n",
    "\n",
    "for file in os.listdir('../logs'):\n",
    "    name, ext = os.path.splitext(file)\n",
    "    if ext != '.log':\n",
    "        continue\n",
    "    parts = name.split('_')\n",
    "    try:\n",
    "        num = int(parts[-1])\n",
    "        if os.path.exists(buildname(parts, num + 1)) and not os.path.exists(buildname(parts, num + 2)):\n",
    "            score1 = get_score(buildname(parts, num))\n",
    "            score2 = get_score(buildname(parts, num + 1))\n",
    "            if score1 != score2:\n",
    "                print('difference in', name, ':', score1, score2)\n",
    "                if score1[1] == score2[1]:\n",
    "                    if score1 < score2:\n",
    "                        worse += 1\n",
    "                    else:\n",
    "                        better += 1\n",
    "    except Exception as e:\n",
    "        pass\n",
    "    \n",
    "print('{0} games went better with additional commands, {1} went worse'.format(better, worse))"
   ]
  },
  {
   "cell_type": "code",
   "execution_count": null,
   "metadata": {
    "collapsed": true
   },
   "outputs": [],
   "source": []
  }
 ],
 "metadata": {
  "kernelspec": {
   "display_name": "Python 3",
   "language": "python",
   "name": "python3"
  },
  "language_info": {
   "codemirror_mode": {
    "name": "ipython",
    "version": 3
   },
   "file_extension": ".py",
   "mimetype": "text/x-python",
   "name": "python",
   "nbconvert_exporter": "python",
   "pygments_lexer": "ipython3",
   "version": "3.5.2"
  }
 },
 "nbformat": 4,
 "nbformat_minor": 2
}
