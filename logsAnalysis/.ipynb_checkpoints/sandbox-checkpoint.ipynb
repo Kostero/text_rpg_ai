{
 "cells": [
  {
   "cell_type": "code",
   "execution_count": 1,
   "metadata": {
    "collapsed": true
   },
   "outputs": [],
   "source": [
    "import parser\n",
    "import os\n",
    "from collections import defaultdict"
   ]
  },
  {
   "cell_type": "code",
   "execution_count": 2,
   "metadata": {
    "collapsed": true
   },
   "outputs": [],
   "source": [
    "def get_score(path):\n",
    "    score = 0\n",
    "    max_score = 0\n",
    "    for t in parser.parse(path):\n",
    "        if t[0] == 'score':\n",
    "            score, max_score = map(int, t[1].split())\n",
    "    return score, max_score"
   ]
  },
  {
   "cell_type": "code",
   "execution_count": 8,
   "metadata": {},
   "outputs": [
    {
     "name": "stdout",
     "output_type": "stream",
     "text": [
      "difference in reser_0 : (0, 0) (0, 100)\n",
      "difference in dogslife_0 : (3, 38) (2, 38)\n",
      "difference in typo_0 : (2, 10) (0, 10)\n",
      "difference in solitary_0 : (0, 10) (1, 10)\n",
      "difference in Gumshoe_0 : (0, 24) (1, 24)\n",
      "difference in building_0 : (15, 250) (0, 250)\n",
      "difference in BedTime_0 : (2, 200) (4, 200)\n",
      "difference in tatctae_0 : (0, 200) (1, 200)\n",
      "difference in ChildsPlay_0 : (0, 100) (5, 100)\n",
      "difference in FineTune_0 : (0, 42) (1, 42)\n",
      "difference in VOSR_r1.23_0 : (2, 100) (3, 100)\n",
      "difference in candy_0 : (0, 41) (10, 41)\n",
      "difference in ZorkNplus9_0 : (10, 616) (35, 616)\n",
      "difference in advent_6 : (0, 0) (27, 350)\n",
      "difference in Vacation_0 : (2, 100) (0, 100)\n",
      "difference in Aug4_0 : (0, 70) (1, 70)\n",
      "difference in Mountain_0 : (1, 32) (3, 32)\n",
      "difference in Balances_0 : (5, 51) (10, 51)\n",
      "difference in detective_6 : (110, 360) (140, 360)\n",
      "difference in doll_0 : (1, 60) (2, 60)\n",
      "difference in StrangeWorld_0 : (6, 10) (1, 10)\n",
      "difference in cavetrip_0 : (5, 500) (0, 500)\n",
      "difference in DeliciousBreakfast_0 : (4, 7) (3, 7)\n",
      "difference in bear_0 : (5, 33) (11, 33)\n",
      "difference in HELL_0 : (0, 300) (20, 300)\n",
      "difference in zork1_3 : (0, 350) (30, 350)\n",
      "difference in quake_0 : (0, 30) (1, 30)\n",
      "difference in mines_0 : (0, 0) (12, 100)\n",
      "difference in atrocitron_0 : (9, 15) (8, 15)\n",
      "difference in Youve_Got_a_Stew_Going_0 : (0, 6) (1, 6)\n",
      "difference in paperchase_0 : (4, 100) (8, 100)\n",
      "difference in spirit_0 : (0, 250) (4, 250)\n",
      "difference in wadewar3_0 : (5, 100) (0, 100)\n",
      "difference in permagic_0 : (1, 3) (0, 3)\n",
      "difference in Dragon_0 : (1, 25) (3, 25)\n",
      "difference in wossname_1 : (7233, 7823) (0, 0)\n",
      "difference in curves_0 : (5, 100) (3, 100)\n",
      "difference in Parc_0 : (0, 400) (0, 0)\n",
      "difference in Tutorial_0 : (4, 20) (9, 20)\n",
      "difference in adv551_0 : (0, 0) (41, 551)\n",
      "difference in wedding_0 : (0, 20) (1, 20)\n",
      "difference in vagueness_0 : (0, 0) (0, 100)\n",
      "difference in quick2_0 : (0, 25) (0, 0)\n",
      "24 games went better now, 11 went worse\n"
     ]
    }
   ],
   "source": [
    "def buildname(parts, nr):\n",
    "    return '../logs/' + '_'.join(parts[:-1] + [str(nr)]) + '.log'\n",
    "\n",
    "better, worse = 0, 0\n",
    "\n",
    "for file in os.listdir('../logs'):\n",
    "    name, ext = os.path.splitext(file)\n",
    "    if ext != '.log':\n",
    "        continue\n",
    "    parts = name.split('_')\n",
    "    try:\n",
    "        num = int(parts[-1])\n",
    "        if os.path.exists(buildname(parts, num + 1)) and os.path.exists(buildname(parts, num + 2)) and not os.path.exists(buildname(parts, num + 3)):\n",
    "            score1 = get_score(buildname(parts, num))\n",
    "            score2 = get_score(buildname(parts, num + 2))\n",
    "            if score1 != score2:\n",
    "                print('difference in', name, ':', score1, score2)\n",
    "                if score1[1] == score2[1]:\n",
    "                    if score1 < score2:\n",
    "                        better += 1\n",
    "                    else:\n",
    "                        worse += 1\n",
    "    except Exception as e:\n",
    "        pass\n",
    "    \n",
    "print('{0} games went better now, {1} went worse'.format(better, worse))"
   ]
  },
  {
   "cell_type": "code",
   "execution_count": 6,
   "metadata": {},
   "outputs": [
    {
     "name": "stdout",
     "output_type": "stream",
     "text": [
      "finished\n"
     ]
    }
   ],
   "source": [
    "scores = defaultdict(list)\n",
    "\n",
    "for file in os.listdir('../logs'):\n",
    "    name, ext = os.path.splitext(file)\n",
    "    if ext != '.log':\n",
    "        continue\n",
    "    parts = name.split('_')\n",
    "    try:\n",
    "        body = '_'.join(parts[:-1])\n",
    "        score = get_score(name)\n",
    "        if score[1] != 0:\n",
    "            scores[body].append(score)\n",
    "    except None:\n",
    "    #except Exception as e:\n",
    "        pass\n",
    "for name, score in scores.items():\n",
    "    if len(set(score)) != 1:\n",
    "        print(name + ':', score)\n",
    "print('finished')"
   ]
  },
  {
   "cell_type": "code",
   "execution_count": null,
   "metadata": {
    "collapsed": true
   },
   "outputs": [],
   "source": []
  }
 ],
 "metadata": {
  "kernelspec": {
   "display_name": "Python 3",
   "language": "python",
   "name": "python3"
  },
  "language_info": {
   "codemirror_mode": {
    "name": "ipython",
    "version": 3
   },
   "file_extension": ".py",
   "mimetype": "text/x-python",
   "name": "python",
   "nbconvert_exporter": "python",
   "pygments_lexer": "ipython3",
   "version": "3.5.2"
  }
 },
 "nbformat": 4,
 "nbformat_minor": 2
}
