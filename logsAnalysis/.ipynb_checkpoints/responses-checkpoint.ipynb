{
 "cells": [
  {
   "cell_type": "code",
   "execution_count": 2,
   "metadata": {},
   "outputs": [
    {
     "name": "stdout",
     "output_type": "stream",
     "text": [
      "Populating the interactive namespace from numpy and matplotlib\n"
     ]
    },
    {
     "name": "stderr",
     "output_type": "stream",
     "text": [
      "/usr/local/lib/python3.5/dist-packages/IPython/core/magics/pylab.py:161: UserWarning: pylab import has clobbered these variables: ['test']\n",
      "`%matplotlib` prevents importing * from pylab and numpy\n",
      "  \"\\n`%matplotlib` prevents importing * from pylab and numpy\"\n"
     ]
    }
   ],
   "source": [
    "%pylab inline\n",
    "from parser import *"
   ]
  },
  {
   "cell_type": "code",
   "execution_count": 3,
   "metadata": {},
   "outputs": [
    {
     "name": "stdout",
     "output_type": "stream",
     "text": [
      "Read successfully 688 out of 737 files\n",
      "There are 395 files with over 100 tokens\n"
     ]
    }
   ],
   "source": [
    "parsed = parse_all('../logs')\n",
    "parsed = [x for x in parsed if len(x) > 100]\n",
    "print('There are', len(parsed), 'files with over 100 tokens')"
   ]
  },
  {
   "cell_type": "code",
   "execution_count": 4,
   "metadata": {
    "collapsed": true
   },
   "outputs": [],
   "source": [
    "def get_classified_responses(tokens):\n",
    "    description = None\n",
    "    current = []\n",
    "    responses = []\n",
    "    positives = []\n",
    "    prev_tok = None\n",
    "    for tok in tokens:\n",
    "        if tok[0] == 'description':\n",
    "            new_desc = tok[1].strip()\n",
    "            if description is not None:\n",
    "                positive = 0 if description == new_desc else 1\n",
    "                responses += current\n",
    "                positives += [positive] * len(current)\n",
    "                current = []\n",
    "            description = new_desc\n",
    "        elif tok[0] == 'response' and prev_tok == 'command':\n",
    "            current.append(tok[1].strip())\n",
    "        prev_tok = tok[0]\n",
    "    return responses, positives"
   ]
  },
  {
   "cell_type": "code",
   "execution_count": 5,
   "metadata": {
    "collapsed": true
   },
   "outputs": [],
   "source": [
    "responses, positives = [], []\n",
    "for p in parsed:\n",
    "    r, p = get_classified_responses(p)\n",
    "    responses += r\n",
    "    positives += p"
   ]
  },
  {
   "cell_type": "code",
   "execution_count": 6,
   "metadata": {
    "collapsed": true
   },
   "outputs": [],
   "source": [
    "translation_table = dict.fromkeys(map(ord, ':;<>/*^&()@!?#$%.,+-\\'\"1234567890'), None)\n",
    "tokens = []\n",
    "str_to_token = {}\n",
    "token_to_str = []\n",
    "for s in responses:\n",
    "    r = []\n",
    "    for w in s.split():\n",
    "        w = w.translate(translation_table).lower()\n",
    "        if not w in str_to_token:\n",
    "            t = len(token_to_str)\n",
    "            token_to_str.append(w)\n",
    "            str_to_token[w] = t\n",
    "        r.append(str_to_token[w])\n",
    "    tokens.append(r)"
   ]
  },
  {
   "cell_type": "code",
   "execution_count": null,
   "metadata": {
    "collapsed": true
   },
   "outputs": [],
   "source": []
  },
  {
   "cell_type": "code",
   "execution_count": 17,
   "metadata": {
    "collapsed": true
   },
   "outputs": [],
   "source": [
    "from sklearn.feature_extraction.text import CountVectorizer\n",
    "from sklearn.feature_extraction.text import TfidfTransformer\n",
    "from sklearn.naive_bayes import MultinomialNB\n",
    "\n",
    "limit = 400000\n",
    "count_vect = CountVectorizer()\n",
    "X_count = count_vect.fit_transform(responses[:limit])\n",
    "tf_transformer = TfidfTransformer(use_idf=False).fit(X_count)\n",
    "X_tf = tf_transformer.transform(X_count)\n",
    "clf = MultinomialNB().fit(X_tf, positives[:limit])"
   ]
  },
  {
   "cell_type": "code",
   "execution_count": 18,
   "metadata": {},
   "outputs": [
    {
     "name": "stdout",
     "output_type": "stream",
     "text": [
      "Accuracy: 0.87825321759\n"
     ]
    }
   ],
   "source": [
    "predicted = clf.predict(X_tf)\n",
    "print('Accuracy:', (predicted == positives[:limit]).mean())"
   ]
  },
  {
   "cell_type": "code",
   "execution_count": 19,
   "metadata": {},
   "outputs": [
    {
     "name": "stdout",
     "output_type": "stream",
     "text": [
      "You can't do that thing 0\n",
      "Taken 1\n",
      "You opened the chest. You found a golden key inside it 1\n",
      "You need a key to open the chest 0\n"
     ]
    }
   ],
   "source": [
    "test = [\"You can't do that thing\", \"Taken\", \"You opened the chest. You found a golden key inside it\", \"You need a key to open the chest\"]\n",
    "X_test_count = count_vect.transform(test)\n",
    "X_test_tf = tf_transformer.transform(X_test_count)\n",
    "predicted = clf.predict(X_test_tf)\n",
    "for t, p in zip(test, predicted):\n",
    "    print(t, p)"
   ]
  },
  {
   "cell_type": "code",
   "execution_count": 32,
   "metadata": {},
   "outputs": [
    {
     "data": {
      "text/plain": [
       "['response_bayes_classifier.pkl']"
      ]
     },
     "execution_count": 32,
     "metadata": {},
     "output_type": "execute_result"
    }
   ],
   "source": [
    "from sklearn.externals import joblib\n",
    "joblib.dump((clf, count_vect, tf_transformer), 'response_bayes_classifier.pkl', protocol=2)"
   ]
  },
  {
   "cell_type": "code",
   "execution_count": 34,
   "metadata": {
    "collapsed": true
   },
   "outputs": [],
   "source": [
    "clf2, count_vect2, tf_transformer2 = joblib.load('response_bayes_classifier.pkl')"
   ]
  },
  {
   "cell_type": "code",
   "execution_count": 31,
   "metadata": {},
   "outputs": [
    {
     "name": "stdout",
     "output_type": "stream",
     "text": [
      "You can't do that thing 0\n",
      "Taken 1\n",
      "You opened the chest. You found a golden key inside it 1\n",
      "You need a key to open the chest 0\n"
     ]
    }
   ],
   "source": [
    "test = [\"You can't do that thing\", \"Taken\", \"You opened the chest. You found a golden key inside it\", \"You need a key to open the chest\"]\n",
    "X_test_count = count_vect2.transform(test)\n",
    "X_test_tf = tf_transformer2.transform(X_test_count)\n",
    "predicted = clf2.predict(X_test_tf)\n",
    "for t, p in zip(test, predicted):\n",
    "    print(t, p)"
   ]
  },
  {
   "cell_type": "code",
   "execution_count": null,
   "metadata": {
    "collapsed": true
   },
   "outputs": [],
   "source": []
  },
  {
   "cell_type": "code",
   "execution_count": null,
   "metadata": {
    "collapsed": true
   },
   "outputs": [],
   "source": []
  }
 ],
 "metadata": {
  "kernelspec": {
   "display_name": "Python 3",
   "language": "python",
   "name": "python3"
  },
  "language_info": {
   "codemirror_mode": {
    "name": "ipython",
    "version": 3
   },
   "file_extension": ".py",
   "mimetype": "text/x-python",
   "name": "python",
   "nbconvert_exporter": "python",
   "pygments_lexer": "ipython3",
   "version": "3.5.2"
  }
 },
 "nbformat": 4,
 "nbformat_minor": 2
}
