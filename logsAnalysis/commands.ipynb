{
 "cells": [
  {
   "cell_type": "code",
   "execution_count": 1,
   "metadata": {},
   "outputs": [
    {
     "name": "stdout",
     "output_type": "stream",
     "text": [
      "Populating the interactive namespace from numpy and matplotlib\n"
     ]
    }
   ],
   "source": [
    "%pylab inline\n",
    "from parser import *\n",
    "import classifier"
   ]
  },
  {
   "cell_type": "code",
   "execution_count": 2,
   "metadata": {},
   "outputs": [
    {
     "name": "stdout",
     "output_type": "stream",
     "text": [
      "Read successfully 1996 out of 2138 files\n",
      "There are 1160 files with over 100 tokens\n"
     ]
    }
   ],
   "source": [
    "parsed = parse_all('../logs')\n",
    "parsed = [x for x in parsed if len(x) > 100]\n",
    "print('There are', len(parsed), 'files with over 100 tokens')"
   ]
  },
  {
   "cell_type": "code",
   "execution_count": 3,
   "metadata": {},
   "outputs": [
    {
     "name": "stdout",
     "output_type": "stream",
     "text": [
      "100.0% processed        ssed          \n"
     ]
    }
   ],
   "source": [
    "from collections import Counter\n",
    "positive = Counter()\n",
    "negative = Counter()\n",
    "for i, file in enumerate(parsed):\n",
    "    last_command = None\n",
    "    for token in file:\n",
    "        if 'command' in token[0]:\n",
    "            last_command = token[1].strip()\n",
    "        elif token[0] == 'response' and last_command is not None:\n",
    "            p = classifier.is_response_positive(token[1])\n",
    "            if p:\n",
    "                positive.update([last_command])\n",
    "            else:\n",
    "                negative.update([last_command])\n",
    "            last_command = None\n",
    "    print('\\r{0}% processed        '.format((i+1) * 100 / len(parsed)), end='')\n",
    "print()"
   ]
  },
  {
   "cell_type": "code",
   "execution_count": 4,
   "metadata": {},
   "outputs": [
    {
     "name": "stdout",
     "output_type": "stream",
     "text": [
      "[('go east', 35481), ('go west', 34622), ('shoot arrow', 33037), ('go north', 30853), ('go south', 30782), ('kill sheep', 17274), ('kill man', 12701), ('kill girl', 12085), ('go up', 9650), ('shoot man', 9593), ('go down', 9549), ('go southeast', 6994), ('go northwest', 6144), ('go northeast', 4172), ('go southwest', 3716), ('kill wolf', 2031), ('kill guard', 1811), ('shoot door', 1571), ('walk north', 1407), ('kill guards', 1284), ('move east', 1127), ('walk east', 1099), ('move north', 1082), ('walk west', 1065), ('move west', 1044), ('fight guard', 872), ('walk south', 845), ('examine door', 778), ('go door', 765), ('move southeast', 732), ('examine wall', 732), ('open door', 684), ('swim east', 669), ('attack guard', 651), ('move south', 629), ('get guide', 571), ('move southwest', 545), ('push east', 519), ('read guide', 483), ('kill the snake', 476), ('examine guide', 468), ('examine window', 420), ('move northeast', 419), ('examine desk', 394), ('examine gnome', 367), ('shoot robot', 366), ('examine table', 353), ('put guide in bag', 326), ('run east', 323), ('take guide', 307)]\n",
      "[('shoot door', 46007), ('go up', 42538), ('go down', 42243), ('go southeast', 41484), ('go northeast', 41263), ('go northwest', 41252), ('go east', 41206), ('go southwest', 41009), ('go south', 40326), ('go north', 39976), ('go west', 39895), ('shoot man', 10386), ('kill man', 6305), ('shoot bird', 4613), ('kill evil clouds', 4155), ('kill man with sword', 3367), ('open door', 2484), ('shoot guard', 2428), ('shoot robot', 2105), ('kill guard', 1999), ('kill the snake', 1876), ('unlock door', 1858), ('kill wolf', 1450), ('move north twice', 1440), ('then north', 1430), ('go back west', 1423), ('shoot dog', 1397), ('row west', 1384), ('crawl west', 1381), ('swim west', 1344), ('fight guard', 1319), ('go door', 1288), ('kill dog', 1257), ('row north', 1251), ('swim north', 1232), ('head west', 1182), ('kill spider', 1165), ('south east', 1146), ('north east', 1135), ('attack guard', 1134), ('row east', 1131), ('move east to the', 1113), ('crawl east', 1094), ('drive east', 1071), ('fly east', 1010), ('examine door', 1001), ('kill dragon', 998), ('head east', 997), ('hack east', 988), ('jump east', 926)]\n",
      "368064 1154775\n"
     ]
    }
   ],
   "source": [
    "print(positive.most_common(50))\n",
    "print(negative.most_common(50))\n",
    "print(sum(list(positive.values())), sum(list(negative.values())))"
   ]
  },
  {
   "cell_type": "code",
   "execution_count": 5,
   "metadata": {
    "collapsed": true
   },
   "outputs": [],
   "source": [
    "ratio = dict()\n",
    "for k in positive.keys():\n",
    "    if positive[k] + negative[k] > 10:\n",
    "        ratio[k] = positive[k] / (positive[k] + negative[k])\n",
    "for k in negative.keys():\n",
    "    if positive[k] + negative[k] > 10:\n",
    "        ratio[k] = positive[k] / (positive[k] + negative[k])"
   ]
  },
  {
   "cell_type": "code",
   "execution_count": 6,
   "metadata": {
    "scrolled": false
   },
   "outputs": [
    {
     "name": "stdout",
     "output_type": "stream",
     "text": [
      "[('get __checknounword', 1.0), ('use the flag', 1.0), ('examine lunchbox', 1.0), ('examine straw', 1.0), ('drop laser', 1.0), ('examine pile of leaves', 1.0), ('examine clerk', 1.0), ('drop everything except the key', 1.0), ('get pointy', 1.0), ('look shaft', 1.0), ('move bush', 1.0), ('read guide', 1.0), ('examine spectacles', 1.0), ('read this guide', 1.0), ('get audio', 1.0), ('examine trumpet', 1.0), ('put ball on desk', 1.0), ('get typewriter', 1.0), ('get cormorant', 1.0), ('drop device', 1.0), ('examine orange mirror', 1.0), ('give guide', 1.0), ('ask robin', 1.0), ('examine vending machine', 1.0), ('go helicopter', 1.0), ('get drizzle', 1.0), ('give bag to man', 1.0), ('read diary', 1.0), ('take message', 1.0), ('throw voice at head', 1.0), ('say hi', 1.0), ('examine the bush', 1.0), ('get suicide', 1.0), ('climb bush', 1.0), ('examine tramp', 1.0), ('get pie', 1.0), ('take kitten', 1.0), ('grab shaft', 1.0), ('enter helicopter', 1.0), ('get the engineer', 1.0), ('examine aquarium', 1.0), ('examine card reader', 1.0), ('walk toward the tent entrance', 1.0), ('examine small boy', 1.0), ('examine band', 1.0), ('empty aquarium', 1.0), ('take robin', 1.0), ('eat pie', 1.0), ('get in helicopter', 1.0), ('examine menu', 1.0), ('examine mantelpiece', 1.0), ('say focus ruin', 1.0), ('get railing', 1.0), ('examine pedestal', 1.0), ('take squash ball', 1.0), ('examine jim', 1.0), ('fill bag with sword', 1.0), ('examine robin', 1.0), ('take spacesuit', 1.0), ('read tombstone', 1.0), ('examine depression', 1.0), ('examine conductor', 1.0), ('get shafts', 1.0), ('examine pie', 1.0), ('get split', 1.0), ('examine ads', 1.0), ('examine guards', 1.0), ('examine lane', 1.0), ('take globe', 1.0), ('pour water on the pile', 1.0), ('get hybrid', 1.0), ('get the boy', 1.0), ('examine engineer', 1.0), ('drop paddle', 1.0), ('examine notebook', 1.0), ('get squash', 1.0), ('check the cardboard boxes', 1.0), ('examine toy box', 1.0), ('get icon', 1.0), ('attack knight', 1.0), ('examine army', 1.0), ('read file', 1.0), ('decode message', 1.0), ('get juniper', 1.0), ('examine slit', 1.0), ('give him the gnome', 1.0), ('climb vines', 1.0), ('examine filing cabinet', 1.0), ('get coarse', 1.0), ('read notebook', 1.0), ('examine shaft', 1.0), ('get the bird', 1.0), ('drop message', 1.0), ('examine coffin', 1.0), ('get riverbank', 1.0), ('get property', 1.0), ('get beanbag', 1.0), ('get rosemary', 1.0), ('examine globe', 1.0), ('look in aquarium', 1.0)]\n",
      "[('two exits forward -', 0.0), ('to arrive in a long hallway', 0.0), ('kill the sorceress', 0.0), ('and go northeast', 0.0), ('1: search under bed', 0.0), ('take temperature', 0.0), ('hear a joke', 0.0), ('examine seats', 0.0), ('into drive', 0.0), ('get splashes', 0.0), ('it will if you wait a while', 0.0), ('rent the suit', 0.0), ('west to the store room', 0.0), ('after leaving the dry lake', 0.0), ('back to the rooms hallway', 0.0), ('in the final hall', 0.0), ('one under the kitchen window', 0.0), ('you began to have these dreams', 0.0), ('there is a whirring noise', 0.0), ('it is lit to make the lit', 0.0), ('step into the room', 0.0), ('this time there are about seventeen rooms', 0.0), ('travel southeast', 0.0), ('again bring her to the throne room', 0.0), ('shake bush', 0.0), ('follow the directions *exactly*', 0.0), ('\"w\" - store room', 0.0), ('maze room 3', 0.0), ('visited the aragain falls', 0.0), ('* have fun with the wall paper', 0.0), ('the throne room', 0.0), ('an apple tree', 0.0), ('back up against the wall', 0.0), ('walk towards the first house', 0.0), ('red key opens patio door', 0.0), (\"go back to sorderon's tower\", 0.0), ('get occurrences', 0.0), ('front door', 0.0), ('this makes for a lot of', 0.0), (\"00am: sherlock's sitting room\", 0.0), ('look stream', 0.0), ('reflect sun', 0.0), ('get corridor', 0.0), ('this is the elegant music room', 0.0), ('get brass lantern', 0.0), ('you start in your prison cell', 0.0), ('leave through the exit', 0.0), ('found by examining the right wall', 0.0), ('make your life', 0.0), (\"'s dark in here\", 0.0), ('see the dark', 0.0), ('the tackiest seventies fashion was', 0.0), ('end up in a room', 0.0), ('left of the chair', 0.0), ('go to the south end', 0.0), ('you are floating in a dark', 0.0), ('get disbelief', 0.0), ('get rampage', 0.0), ('listen tent', 0.0), ('go down into your bedroom', 0.0), ('hit the baby hungus', 0.0), ('sing song', 0.0), ('down from the sky', 0.0), ('the hell desk', 0.0), ('get street', 0.0), ('read cover', 0.0), ('get room key', 0.0), ('east side', 0.0), ('amp the only thing', 0.0), ('the organ room', 0.0), ('this is the end of part 1', 0.0), ('tiptoe into the room', 0.0), ('open door to enter the bar', 0.0), ('alley: exit to street', 0.0), ('enter the open door', 0.0), ('a door opens to a room with', 0.0), ('your shadow is splashed across the walls', 0.0), (\"the play's the thing\", 0.0), ('victims of the swindle - robin oakley', 0.0), ('to the main dark section', 0.0), ('in yard', 0.0), ('get toxic', 0.0), ('light the lantern', 0.0), ('over the wall again', 0.0), ('give grapes', 0.0), ('bar falls on the floor', 0.0), (\"there's nothing\", 0.0), ('found in your hotel room for this', 0.0), ('gold ring', 0.0), ('get stairway', 0.0), ('in a strange room with stairs', 0.0), ('go out the bedroom door', 0.0), ('ask tree about bird', 0.0), ('pick up the shiny thing', 0.0), ('explore this room', 0.0), ('go window to enter the living room', 0.0), ('while the driveway continues southeast', 0.0), ('walk to the blue car', 0.0), ('back in the street', 0.0), ('the men arrive and', 0.0)]\n",
      "12598\n"
     ]
    }
   ],
   "source": [
    "s = list(ratio.items())\n",
    "s.sort(key=lambda x: -x[1])\n",
    "print(s[:100])\n",
    "print(s[-100:])\n",
    "print(len(s))"
   ]
  },
  {
   "cell_type": "code",
   "execution_count": 9,
   "metadata": {},
   "outputs": [
    {
     "name": "stdout",
     "output_type": "stream",
     "text": [
      "[('get __checknounword', 1.0), ('get pointy', 1.0), ('get audio', 1.0), ('get typewriter', 1.0), ('get cormorant', 1.0), ('get drizzle', 1.0), ('get suicide', 1.0), ('get pie', 1.0), ('get the engineer', 1.0), ('get in helicopter', 1.0), ('get railing', 1.0), ('get shafts', 1.0), ('get split', 1.0), ('get hybrid', 1.0), ('get the boy', 1.0), ('get squash', 1.0), ('get icon', 1.0), ('get juniper', 1.0), ('get coarse', 1.0), ('get the bird', 1.0), ('get riverbank', 1.0), ('get property', 1.0), ('get beanbag', 1.0), ('get rosemary', 1.0), ('get sheep', 1.0), ('get check_word', 1.0), ('get symbols', 1.0), ('get stewpot', 1.0), ('get rubble-like', 1.0), ('get canister', 1.0), ('get oblivion', 1.0), ('get guide', 0.9947735191637631), ('get kittens', 0.9929577464788732), ('get looking-glass', 0.9896907216494846), ('get message', 0.9775280898876404), ('get spoonbill', 0.9743589743589743), ('get curtain', 0.9726027397260274), ('get tram', 0.9723502304147466), ('get spacesuit', 0.9722222222222222), ('get hillside', 0.9639344262295082), ('get anhinga', 0.9565217391304348), ('get globe', 0.95), ('get pen', 0.95), ('get elk', 0.95), ('get dartboard', 0.95), ('get trunk', 0.9473684210526315), ('get gallinule', 0.9459459459459459), ('get heron', 0.9444444444444444), ('get boy', 0.9411764705882353), ('get pits', 0.9285714285714286), ('get downpour', 0.9230769230769231), ('get crystals', 0.9166666666666666), ('get hedgehog', 0.9166666666666666), ('get bottle and stool', 0.9166666666666666), ('get stool', 0.9142857142857143), ('get hisses', 0.9090909090909091), ('get terrain', 0.9090909090909091), ('get incline', 0.9090909090909091), ('get pistol', 0.9047619047619048), ('get shaft', 0.9032258064516129), ('get gnome', 0.896551724137931), ('get the number', 0.8863636363636364), ('get send', 0.8823529411764706), ('get contraption', 0.8823529411764706), ('get herd', 0.88), ('get lantern', 0.875), ('get the fish', 0.8717948717948718), ('get sinks', 0.8648648648648649), ('get match', 0.8636363636363636), ('get rustle', 0.8571428571428571), ('get bird', 0.8556701030927835), ('get powder', 0.8518518518518519), ('get landscape', 0.8421052631578947), ('get corn', 0.8333333333333334), ('get granite', 0.8333333333333334), ('get gum', 0.8333333333333334), ('get mom', 0.8292682926829268), ('get fruit', 0.8260869565217391), ('get barkley', 0.8181818181818182), ('get gon', 0.8181818181818182), ('get ambassador', 0.8156028368794326), ('get children', 0.813953488372093), ('get rooftops', 0.8095238095238095), ('get spectacles', 0.8055555555555556), ('get tube', 0.8045977011494253), ('get the object', 0.8043478260869565), ('get the conductor', 0.8), ('get dishes', 0.8), ('get horses', 0.8), ('get wolf', 0.7777777777777778), ('get tongue', 0.7692307692307693), ('get certificate', 0.7647058823529411), ('get calculator', 0.76), ('get conductor', 0.7560975609756098), ('get lush', 0.7551020408163265), ('get grass', 0.7547169811320755), ('get daughter', 0.75), ('get dipper', 0.75), ('get rug', 0.75), ('get streetlights', 0.75)]\n",
      "[('get chain', 0.0), ('get trespasses', 0.0), ('get restart', 0.0), ('get to the open room', 0.0), ('get position', 0.0), ('get shadows', 0.0), ('get remains', 0.0), ('get canyon', 0.0), ('get drawing-room', 0.0), ('get copy', 0.0), ('get presses', 0.0), ('get workbench', 0.0), ('get shines', 0.0), ('get forever', 0.0), ('get door key', 0.0), ('get visual', 0.0), ('get blow', 0.0), ('get links', 0.0), ('get rid of the wolf', 0.0), ('get graveyard', 0.0), ('get surroundings', 0.0), ('get built', 0.0), ('get music box then examine it', 0.0), ('get passageway', 0.0), ('get piper', 0.0), ('get cafe', 0.0), ('get bought', 0.0), ('get powder-orange', 0.0), ('get garlic', 0.0), ('get lots', 0.0), ('get musty', 0.0), ('get bisexual', 0.0), ('get skate', 0.0), ('get hill', 0.0), ('get dagger-blade', 0.0), ('get co-exist', 0.0), ('get sake', 0.0), ('get hose', 0.0), ('get suffocation', 0.0), ('get anytime', 0.0), ('get sir', 0.0), ('get example', 0.0), ('get guidance', 0.0), ('get student', 0.0), ('get solve', 0.0), ('get chipped', 0.0), ('get suggest', 0.0), ('get handle', 0.0), ('get grate', 0.0), ('get gravity', 0.0), ('get tables', 0.0), ('get inside', 0.0), ('get scenery', 0.0), ('get smell', 0.0), ('get flight', 0.0), ('get marker', 0.0), ('get undo', 0.0), ('get the notebook', 0.0), ('get barrel', 0.0), ('get turn', 0.0), ('get strip', 0.0), ('get motto', 0.0), ('get gossip', 0.0), ('get out of this place', 0.0), ('get tapestry', 0.0), ('get shaky', 0.0), ('get monitors', 0.0), ('get mansion', 0.0), ('get east-west', 0.0), ('get streetlight', 0.0), ('get reads', 0.0), ('get trade card', 0.0), ('get clothing', 0.0), ('get building', 0.0), ('get pilot', 0.0), ('get to the lab door', 0.0), ('get bears', 0.0), ('get back to room hall', 0.0), ('get absurd', 0.0), ('get remote control unit', 0.0), ('get lake', 0.0), ('get storage', 0.0), ('get steep-roofed', 0.0), ('get functions', 0.0), ('get garage', 0.0), ('get want', 0.0), ('get nostrils', 0.0), ('get light guide', 0.0), ('get subject', 0.0), ('get cough', 0.0), ('get splashes', 0.0), ('get occurrences', 0.0), ('get corridor', 0.0), ('get brass lantern', 0.0), ('get disbelief', 0.0), ('get rampage', 0.0), ('get street', 0.0), ('get room key', 0.0), ('get toxic', 0.0), ('get stairway', 0.0)]\n"
     ]
    }
   ],
   "source": [
    "gets = list(filter(lambda x: x[0].startswith('get '), s))\n",
    "print(gets[:100])\n",
    "print(gets[-100:])"
   ]
  },
  {
   "cell_type": "code",
   "execution_count": null,
   "metadata": {
    "collapsed": true
   },
   "outputs": [],
   "source": []
  }
 ],
 "metadata": {
  "kernelspec": {
   "display_name": "Python 3",
   "language": "python",
   "name": "python3"
  },
  "language_info": {
   "codemirror_mode": {
    "name": "ipython",
    "version": 3
   },
   "file_extension": ".py",
   "mimetype": "text/x-python",
   "name": "python",
   "nbconvert_exporter": "python",
   "pygments_lexer": "ipython3",
   "version": "3.5.2"
  }
 },
 "nbformat": 4,
 "nbformat_minor": 2
}
